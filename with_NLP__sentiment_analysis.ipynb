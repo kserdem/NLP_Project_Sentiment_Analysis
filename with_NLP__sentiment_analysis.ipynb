{
  "nbformat": 4,
  "nbformat_minor": 0,
  "metadata": {
    "colab": {
      "name": "with_NLP_ sentiment_analysis.ipynb",
      "provenance": [],
      "authorship_tag": "ABX9TyO+nLZ3uDukZLLBJNCk5yW3",
      "include_colab_link": true
    },
    "kernelspec": {
      "name": "python3",
      "display_name": "Python 3"
    }
  },
  "cells": [
    {
      "cell_type": "markdown",
      "metadata": {
        "id": "view-in-github",
        "colab_type": "text"
      },
      "source": [
        "<a href=\"https://colab.research.google.com/github/kserdem/NLP_Project_Sentiment_Analysis/blob/main/with_NLP__sentiment_analysis.ipynb\" target=\"_parent\"><img src=\"https://colab.research.google.com/assets/colab-badge.svg\" alt=\"Open In Colab\"/></a>"
      ]
    },
    {
      "cell_type": "code",
      "metadata": {
        "id": "iIioqE1tT94d"
      },
      "source": [
        ""
      ],
      "execution_count": null,
      "outputs": []
    },
    {
      "cell_type": "code",
      "metadata": {
        "colab": {
          "base_uri": "https://localhost:8080/"
        },
        "id": "Ut9aHQmw4mHq",
        "outputId": "037a9da0-69f2-4689-f9ef-d02a612b791e"
      },
      "source": [
        "from google.colab import drive\r\n",
        "drive.mount('/content/drive')"
      ],
      "execution_count": 1,
      "outputs": [
        {
          "output_type": "stream",
          "text": [
            "Mounted at /content/drive\n"
          ],
          "name": "stdout"
        }
      ]
    },
    {
      "cell_type": "markdown",
      "metadata": {
        "id": "rvAkLRQB4xa_"
      },
      "source": [
        "#Kullanılan Kütüphanelerin İmport Edilmesi"
      ]
    },
    {
      "cell_type": "code",
      "metadata": {
        "id": "mrAbH5Bq4vo1"
      },
      "source": [
        "import pandas as pd \r\n",
        "import numpy as np \r\n",
        "import matplotlib.pyplot as plt \r\n",
        "from sklearn.model_selection import train_test_split\r\n",
        "from sklearn.feature_extraction.text import CountVectorizer\r\n",
        "from sklearn.feature_extraction.text import TfidfTransformer\r\n",
        "from sklearn.naive_bayes import MultinomialNB\r\n",
        "from sklearn.metrics import accuracy_score"
      ],
      "execution_count": 3,
      "outputs": []
    },
    {
      "cell_type": "code",
      "metadata": {
        "colab": {
          "base_uri": "https://localhost:8080/"
        },
        "id": "-bcrg6lh4vqY",
        "outputId": "920c307e-a19d-4209-8ce2-be3ffa4413b0"
      },
      "source": [
        "!pip install nltk"
      ],
      "execution_count": 30,
      "outputs": [
        {
          "output_type": "stream",
          "text": [
            "Requirement already satisfied: nltk in /usr/local/lib/python3.6/dist-packages (3.2.5)\n",
            "Requirement already satisfied: six in /usr/local/lib/python3.6/dist-packages (from nltk) (1.15.0)\n"
          ],
          "name": "stdout"
        }
      ]
    },
    {
      "cell_type": "code",
      "metadata": {
        "colab": {
          "base_uri": "https://localhost:8080/"
        },
        "id": "hGwTyNr2AlKF",
        "outputId": "06528765-67f7-4a47-92bc-a2cc1ead75b5"
      },
      "source": [
        "import string\r\n",
        "import re\r\n",
        "import nltk\r\n",
        "from nltk.corpus import stopwords\r\n",
        "nltk.download(\"stopwords\")\r\n",
        "\r\n"
      ],
      "execution_count": 31,
      "outputs": [
        {
          "output_type": "stream",
          "text": [
            "[nltk_data] Downloading package stopwords to /root/nltk_data...\n",
            "[nltk_data]   Unzipping corpora/stopwords.zip.\n"
          ],
          "name": "stdout"
        },
        {
          "output_type": "execute_result",
          "data": {
            "text/plain": [
              "True"
            ]
          },
          "metadata": {
            "tags": []
          },
          "execution_count": 31
        }
      ]
    },
    {
      "cell_type": "markdown",
      "metadata": {
        "id": "lylCoBtp7nM7"
      },
      "source": [
        "#Veri Setinin Yüklenmesi"
      ]
    },
    {
      "cell_type": "code",
      "metadata": {
        "id": "N8GfpN_g4vsT"
      },
      "source": [
        "path=\"/content/drive/MyDrive/Projeler/NLP_Project/\"\r\n",
        "data=pd.read_csv(path+\"train.txt\",sep=\";\",header = None, names=[\"text\",\"label\"])\r\n",
        "\r\n"
      ],
      "execution_count": 12,
      "outputs": []
    },
    {
      "cell_type": "markdown",
      "metadata": {
        "id": "BoNf9URu5HPh"
      },
      "source": [
        "#Dataya İlk Bakış"
      ]
    },
    {
      "cell_type": "code",
      "metadata": {
        "colab": {
          "base_uri": "https://localhost:8080/",
          "height": 197
        },
        "id": "Pd--aLYv4vvf",
        "outputId": "5950f750-6b0c-4a71-9d8d-3616bbadbb7b"
      },
      "source": [
        "data.head()"
      ],
      "execution_count": 13,
      "outputs": [
        {
          "output_type": "execute_result",
          "data": {
            "text/html": [
              "<div>\n",
              "<style scoped>\n",
              "    .dataframe tbody tr th:only-of-type {\n",
              "        vertical-align: middle;\n",
              "    }\n",
              "\n",
              "    .dataframe tbody tr th {\n",
              "        vertical-align: top;\n",
              "    }\n",
              "\n",
              "    .dataframe thead th {\n",
              "        text-align: right;\n",
              "    }\n",
              "</style>\n",
              "<table border=\"1\" class=\"dataframe\">\n",
              "  <thead>\n",
              "    <tr style=\"text-align: right;\">\n",
              "      <th></th>\n",
              "      <th>text</th>\n",
              "      <th>label</th>\n",
              "    </tr>\n",
              "  </thead>\n",
              "  <tbody>\n",
              "    <tr>\n",
              "      <th>0</th>\n",
              "      <td>i didnt feel humiliated</td>\n",
              "      <td>sadness</td>\n",
              "    </tr>\n",
              "    <tr>\n",
              "      <th>1</th>\n",
              "      <td>i can go from feeling so hopeless to so damned...</td>\n",
              "      <td>sadness</td>\n",
              "    </tr>\n",
              "    <tr>\n",
              "      <th>2</th>\n",
              "      <td>im grabbing a minute to post i feel greedy wrong</td>\n",
              "      <td>anger</td>\n",
              "    </tr>\n",
              "    <tr>\n",
              "      <th>3</th>\n",
              "      <td>i am ever feeling nostalgic about the fireplac...</td>\n",
              "      <td>love</td>\n",
              "    </tr>\n",
              "    <tr>\n",
              "      <th>4</th>\n",
              "      <td>i am feeling grouchy</td>\n",
              "      <td>anger</td>\n",
              "    </tr>\n",
              "  </tbody>\n",
              "</table>\n",
              "</div>"
            ],
            "text/plain": [
              "                                                text    label\n",
              "0                            i didnt feel humiliated  sadness\n",
              "1  i can go from feeling so hopeless to so damned...  sadness\n",
              "2   im grabbing a minute to post i feel greedy wrong    anger\n",
              "3  i am ever feeling nostalgic about the fireplac...     love\n",
              "4                               i am feeling grouchy    anger"
            ]
          },
          "metadata": {
            "tags": []
          },
          "execution_count": 13
        }
      ]
    },
    {
      "cell_type": "code",
      "metadata": {
        "colab": {
          "base_uri": "https://localhost:8080/"
        },
        "id": "_PkhQUuC4vyD",
        "outputId": "f4c6ab34-f806-4237-d43f-0ab727b6ee29"
      },
      "source": [
        "data.info()"
      ],
      "execution_count": 14,
      "outputs": [
        {
          "output_type": "stream",
          "text": [
            "<class 'pandas.core.frame.DataFrame'>\n",
            "RangeIndex: 16000 entries, 0 to 15999\n",
            "Data columns (total 2 columns):\n",
            " #   Column  Non-Null Count  Dtype \n",
            "---  ------  --------------  ----- \n",
            " 0   text    16000 non-null  object\n",
            " 1   label   16000 non-null  object\n",
            "dtypes: object(2)\n",
            "memory usage: 250.1+ KB\n"
          ],
          "name": "stdout"
        }
      ]
    },
    {
      "cell_type": "code",
      "metadata": {
        "id": "gSysex8L9UN8"
      },
      "source": [
        "a=data['label'].value_counts()"
      ],
      "execution_count": 17,
      "outputs": []
    },
    {
      "cell_type": "code",
      "metadata": {
        "colab": {
          "base_uri": "https://localhost:8080/"
        },
        "id": "UGX56IhZ_H4J",
        "outputId": "900fa929-ca4c-478e-f35e-acaa77a64b64"
      },
      "source": [
        "data['label'].value_counts()"
      ],
      "execution_count": 27,
      "outputs": [
        {
          "output_type": "execute_result",
          "data": {
            "text/plain": [
              "joy         5362\n",
              "sadness     4666\n",
              "anger       2159\n",
              "fear        1937\n",
              "love        1304\n",
              "surprise     572\n",
              "Name: label, dtype: int64"
            ]
          },
          "metadata": {
            "tags": []
          },
          "execution_count": 27
        }
      ]
    },
    {
      "cell_type": "code",
      "metadata": {
        "id": "m8VEzQbU_QUe"
      },
      "source": [
        "labels=[\"joy\",\"sadness\",\"anger\",\"fear\",\"love\",\"surprise\"]"
      ],
      "execution_count": null,
      "outputs": []
    },
    {
      "cell_type": "code",
      "metadata": {
        "colab": {
          "base_uri": "https://localhost:8080/",
          "height": 247
        },
        "id": "ICYVqUdK-X3w",
        "outputId": "b2b1e618-13b7-4bc6-d622-200f643a6666"
      },
      "source": [
        "plt.pie(a,labels=labels)\r\n",
        "plt.show() "
      ],
      "execution_count": 26,
      "outputs": [
        {
          "output_type": "display_data",
          "data": {
            "image/png": "[encoded data removed]",
            "text/plain": [
              "<Figure size 432x288 with 1 Axes>"
            ]
          },
          "metadata": {
            "tags": []
          }
        }
      ]
    },
    {
      "cell_type": "code",
      "metadata": {
        "colab": {
          "base_uri": "https://localhost:8080/"
        },
        "id": "LAJjqvSo-YAW",
        "outputId": "1332da02-ec34-4294-970a-9de6f86c9dfe"
      },
      "source": [
        "data['text']"
      ],
      "execution_count": 29,
      "outputs": [
        {
          "output_type": "execute_result",
          "data": {
            "text/plain": [
              "0                                  i didnt feel humiliated\n",
              "1        i can go from feeling so hopeless to so damned...\n",
              "2         im grabbing a minute to post i feel greedy wrong\n",
              "3        i am ever feeling nostalgic about the fireplac...\n",
              "4                                     i am feeling grouchy\n",
              "                               ...                        \n",
              "15995    i just had a very brief time in the beanbag an...\n",
              "15996    i am now turning and i feel pathetic that i am...\n",
              "15997                       i feel strong and good overall\n",
              "15998    i feel like this was such a rude comment and i...\n",
              "15999    i know a lot but i feel so stupid because i ca...\n",
              "Name: text, Length: 16000, dtype: object"
            ]
          },
          "metadata": {
            "tags": []
          },
          "execution_count": 29
        }
      ]
    },
    {
      "cell_type": "markdown",
      "metadata": {
        "id": "RYLA14Qk5MxC"
      },
      "source": [
        "#Data Preprocess İşlemleri"
      ]
    },
    {
      "cell_type": "code",
      "metadata": {
        "id": "1LT45osG5QnR"
      },
      "source": [
        ""
      ],
      "execution_count": null,
      "outputs": []
    },
    {
      "cell_type": "markdown",
      "metadata": {
        "id": "mtbSbmhx5RVS"
      },
      "source": [
        "#Metnin Küçük Harfe Çevrilmesi\r\n",
        "\r\n",
        "\r\n",
        "\r\n",
        "*   Dataya ilk bakışta tüm veri seti küçük harf gibi görünüyor ancak tüm texti inceleyemediğimiz için yeniden bu işlemi yapıyoruz.\r\n",
        "\r\n",
        "\r\n"
      ]
    },
    {
      "cell_type": "code",
      "metadata": {
        "id": "gGl2ajlM5WD7"
      },
      "source": [
        "data['text']=data['text'].apply(lambda x: ' '.join(x.lower() for x in x.split() ))"
      ],
      "execution_count": 32,
      "outputs": []
    },
    {
      "cell_type": "code",
      "metadata": {
        "id": "JzTTfmjwBFJj"
      },
      "source": [
        "data['label']=data['label'].apply(lambda x: ' '.join(x.lower() for x in x.split() ))"
      ],
      "execution_count": 33,
      "outputs": []
    },
    {
      "cell_type": "code",
      "metadata": {
        "colab": {
          "base_uri": "https://localhost:8080/",
          "height": 257
        },
        "id": "2JKunTtjBFNS",
        "outputId": "b0e98be2-021b-4682-c6f2-7670db87eb88"
      },
      "source": [
        "data.head(7)"
      ],
      "execution_count": 34,
      "outputs": [
        {
          "output_type": "execute_result",
          "data": {
            "text/html": [
              "<div>\n",
              "<style scoped>\n",
              "    .dataframe tbody tr th:only-of-type {\n",
              "        vertical-align: middle;\n",
              "    }\n",
              "\n",
              "    .dataframe tbody tr th {\n",
              "        vertical-align: top;\n",
              "    }\n",
              "\n",
              "    .dataframe thead th {\n",
              "        text-align: right;\n",
              "    }\n",
              "</style>\n",
              "<table border=\"1\" class=\"dataframe\">\n",
              "  <thead>\n",
              "    <tr style=\"text-align: right;\">\n",
              "      <th></th>\n",
              "      <th>text</th>\n",
              "      <th>label</th>\n",
              "    </tr>\n",
              "  </thead>\n",
              "  <tbody>\n",
              "    <tr>\n",
              "      <th>0</th>\n",
              "      <td>i didnt feel humiliated</td>\n",
              "      <td>sadness</td>\n",
              "    </tr>\n",
              "    <tr>\n",
              "      <th>1</th>\n",
              "      <td>i can go from feeling so hopeless to so damned...</td>\n",
              "      <td>sadness</td>\n",
              "    </tr>\n",
              "    <tr>\n",
              "      <th>2</th>\n",
              "      <td>im grabbing a minute to post i feel greedy wrong</td>\n",
              "      <td>anger</td>\n",
              "    </tr>\n",
              "    <tr>\n",
              "      <th>3</th>\n",
              "      <td>i am ever feeling nostalgic about the fireplac...</td>\n",
              "      <td>love</td>\n",
              "    </tr>\n",
              "    <tr>\n",
              "      <th>4</th>\n",
              "      <td>i am feeling grouchy</td>\n",
              "      <td>anger</td>\n",
              "    </tr>\n",
              "    <tr>\n",
              "      <th>5</th>\n",
              "      <td>ive been feeling a little burdened lately wasn...</td>\n",
              "      <td>sadness</td>\n",
              "    </tr>\n",
              "    <tr>\n",
              "      <th>6</th>\n",
              "      <td>ive been taking or milligrams or times recomme...</td>\n",
              "      <td>surprise</td>\n",
              "    </tr>\n",
              "  </tbody>\n",
              "</table>\n",
              "</div>"
            ],
            "text/plain": [
              "                                                text     label\n",
              "0                            i didnt feel humiliated   sadness\n",
              "1  i can go from feeling so hopeless to so damned...   sadness\n",
              "2   im grabbing a minute to post i feel greedy wrong     anger\n",
              "3  i am ever feeling nostalgic about the fireplac...      love\n",
              "4                               i am feeling grouchy     anger\n",
              "5  ive been feeling a little burdened lately wasn...   sadness\n",
              "6  ive been taking or milligrams or times recomme...  surprise"
            ]
          },
          "metadata": {
            "tags": []
          },
          "execution_count": 34
        }
      ]
    },
    {
      "cell_type": "markdown",
      "metadata": {
        "id": "SZZkfY2z5WhU"
      },
      "source": [
        "#Noktalama İşaetlerinin Kaldırılması"
      ]
    },
    {
      "cell_type": "code",
      "metadata": {
        "id": "Fj366Ub-5bKe"
      },
      "source": [
        "data['label']=data['label'].str.replace(\"[^\\w\\s]\",\"\")"
      ],
      "execution_count": 35,
      "outputs": []
    },
    {
      "cell_type": "code",
      "metadata": {
        "id": "ZA_xoj6-BVX7"
      },
      "source": [
        "data['text']=data['text'].str.replace(\"[^\\w\\s]\",\"\")"
      ],
      "execution_count": 36,
      "outputs": []
    },
    {
      "cell_type": "code",
      "metadata": {
        "id": "1ocibCyMBVj5"
      },
      "source": [
        ""
      ],
      "execution_count": null,
      "outputs": []
    },
    {
      "cell_type": "markdown",
      "metadata": {
        "id": "3QkfXODU5brV"
      },
      "source": [
        "#Metinde Bulunan Sayıların Silinmesi"
      ]
    },
    {
      "cell_type": "code",
      "metadata": {
        "id": "5VRZVtMP5gzA"
      },
      "source": [
        "data['text']=data['text'].str.replace(\"\\d\",\"\")"
      ],
      "execution_count": 38,
      "outputs": []
    },
    {
      "cell_type": "markdown",
      "metadata": {
        "id": "GfXIo0Fe5hYk"
      },
      "source": [
        "#StopWordslerin Silinmesi"
      ]
    },
    {
      "cell_type": "code",
      "metadata": {
        "id": "SFVhUSSL5loq"
      },
      "source": [
        "#text ingilizce olduğu için ingilizce stopwordsleri kullanacağız.\r\n",
        "sw= stopwords.words(\"english\")\r\n",
        "sw"
      ],
      "execution_count": null,
      "outputs": []
    },
    {
      "cell_type": "code",
      "metadata": {
        "id": "45uneJQwB7Nq"
      },
      "source": [
        "data['text']=data['text'].apply(lambda x: ' '.join(x for x in x.split() if x not in sw))"
      ],
      "execution_count": 40,
      "outputs": []
    },
    {
      "cell_type": "code",
      "metadata": {
        "colab": {
          "base_uri": "https://localhost:8080/",
          "height": 197
        },
        "id": "kOxoTFBbB7Pm",
        "outputId": "dd18be7c-d0e3-4cb6-f2fb-dd8214d6cfc6"
      },
      "source": [
        "data.head()"
      ],
      "execution_count": 41,
      "outputs": [
        {
          "output_type": "execute_result",
          "data": {
            "text/html": [
              "<div>\n",
              "<style scoped>\n",
              "    .dataframe tbody tr th:only-of-type {\n",
              "        vertical-align: middle;\n",
              "    }\n",
              "\n",
              "    .dataframe tbody tr th {\n",
              "        vertical-align: top;\n",
              "    }\n",
              "\n",
              "    .dataframe thead th {\n",
              "        text-align: right;\n",
              "    }\n",
              "</style>\n",
              "<table border=\"1\" class=\"dataframe\">\n",
              "  <thead>\n",
              "    <tr style=\"text-align: right;\">\n",
              "      <th></th>\n",
              "      <th>text</th>\n",
              "      <th>label</th>\n",
              "    </tr>\n",
              "  </thead>\n",
              "  <tbody>\n",
              "    <tr>\n",
              "      <th>0</th>\n",
              "      <td>didnt feel humiliated</td>\n",
              "      <td>sadness</td>\n",
              "    </tr>\n",
              "    <tr>\n",
              "      <th>1</th>\n",
              "      <td>go feeling hopeless damned hopeful around some...</td>\n",
              "      <td>sadness</td>\n",
              "    </tr>\n",
              "    <tr>\n",
              "      <th>2</th>\n",
              "      <td>im grabbing minute post feel greedy wrong</td>\n",
              "      <td>anger</td>\n",
              "    </tr>\n",
              "    <tr>\n",
              "      <th>3</th>\n",
              "      <td>ever feeling nostalgic fireplace know still pr...</td>\n",
              "      <td>love</td>\n",
              "    </tr>\n",
              "    <tr>\n",
              "      <th>4</th>\n",
              "      <td>feeling grouchy</td>\n",
              "      <td>anger</td>\n",
              "    </tr>\n",
              "  </tbody>\n",
              "</table>\n",
              "</div>"
            ],
            "text/plain": [
              "                                                text    label\n",
              "0                              didnt feel humiliated  sadness\n",
              "1  go feeling hopeless damned hopeful around some...  sadness\n",
              "2          im grabbing minute post feel greedy wrong    anger\n",
              "3  ever feeling nostalgic fireplace know still pr...     love\n",
              "4                                    feeling grouchy    anger"
            ]
          },
          "metadata": {
            "tags": []
          },
          "execution_count": 41
        }
      ]
    },
    {
      "cell_type": "code",
      "metadata": {
        "id": "Bprsy75CB7SF"
      },
      "source": [
        ""
      ],
      "execution_count": null,
      "outputs": []
    },
    {
      "cell_type": "markdown",
      "metadata": {
        "id": "oCCV2pje5mR_"
      },
      "source": [
        "#Metinde Az Geçen Kelimelerin Tespiti ve Silinmesi"
      ]
    },
    {
      "cell_type": "code",
      "metadata": {
        "id": "73ZjcekS5rSU"
      },
      "source": [
        "sil=pd.Series(\" \".join(data['text']).split()).value_counts()"
      ],
      "execution_count": 43,
      "outputs": []
    },
    {
      "cell_type": "code",
      "metadata": {
        "colab": {
          "base_uri": "https://localhost:8080/"
        },
        "id": "0BkaF4_fCXAG",
        "outputId": "9bb7c7f4-0372-44bd-d8ac-c010218e8516"
      },
      "source": [
        "sil"
      ],
      "execution_count": 44,
      "outputs": [
        {
          "output_type": "execute_result",
          "data": {
            "text/plain": [
              "feel             11183\n",
              "feeling           5112\n",
              "like              2908\n",
              "im                2430\n",
              "really             942\n",
              "                 ...  \n",
              "chronicles           1\n",
              "shies                1\n",
              "illicit              1\n",
              "intimated            1\n",
              "contamination        1\n",
              "Length: 15064, dtype: int64"
            ]
          },
          "metadata": {
            "tags": []
          },
          "execution_count": 44
        }
      ]
    },
    {
      "cell_type": "code",
      "metadata": {
        "id": "gNpxvdVbGFyT"
      },
      "source": [
        "sil=pd.Series(\" \".join(data['text']).split()).value_counts()[-7810:]"
      ],
      "execution_count": 107,
      "outputs": []
    },
    {
      "cell_type": "code",
      "metadata": {
        "colab": {
          "base_uri": "https://localhost:8080/"
        },
        "id": "ElyUiQvSGF2D",
        "outputId": "22f7327a-9c62-4611-8314-f7013899f61c"
      },
      "source": [
        "sil"
      ],
      "execution_count": 108,
      "outputs": [
        {
          "output_type": "execute_result",
          "data": {
            "text/plain": [
              "tent             1\n",
              "creators         1\n",
              "happend          1\n",
              "spreadsheet      1\n",
              "overdone         1\n",
              "                ..\n",
              "chronicles       1\n",
              "shies            1\n",
              "illicit          1\n",
              "intimated        1\n",
              "contamination    1\n",
              "Length: 7810, dtype: int64"
            ]
          },
          "metadata": {
            "tags": []
          },
          "execution_count": 108
        }
      ]
    },
    {
      "cell_type": "code",
      "metadata": {
        "id": "AC20HsFHHQty"
      },
      "source": [
        "data['text']=data['text'].apply(lambda x: ' '.join(x for x in x.split() if x not in sil))"
      ],
      "execution_count": 109,
      "outputs": []
    },
    {
      "cell_type": "markdown",
      "metadata": {
        "id": "i-iL0Wp-5zuL"
      },
      "source": [
        "#Lemmatization İşlemi"
      ]
    },
    {
      "cell_type": "code",
      "metadata": {
        "colab": {
          "base_uri": "https://localhost:8080/"
        },
        "id": "EsiQqI_V52Qm",
        "outputId": "07cd7e46-7b84-4944-8813-228fc4de7ed4"
      },
      "source": [
        "from textblob import Word\r\n",
        "nltk.download(\"wordnet\")"
      ],
      "execution_count": 110,
      "outputs": [
        {
          "output_type": "stream",
          "text": [
            "[nltk_data] Downloading package wordnet to /root/nltk_data...\n",
            "[nltk_data]   Unzipping corpora/wordnet.zip.\n"
          ],
          "name": "stdout"
        },
        {
          "output_type": "execute_result",
          "data": {
            "text/plain": [
              "True"
            ]
          },
          "metadata": {
            "tags": []
          },
          "execution_count": 110
        }
      ]
    },
    {
      "cell_type": "code",
      "metadata": {
        "id": "T-HHc1f3HeTC"
      },
      "source": [
        "data['text']=data['text'].apply(lambda x: \" \".join([Word(i).lemmatize() for i in x.split()]))"
      ],
      "execution_count": 111,
      "outputs": []
    },
    {
      "cell_type": "markdown",
      "metadata": {
        "id": "NvYviM-J58Nx"
      },
      "source": [
        "#Veri Setini Bölme"
      ]
    },
    {
      "cell_type": "code",
      "metadata": {
        "colab": {
          "base_uri": "https://localhost:8080/"
        },
        "id": "6wbIXfWK5-ih",
        "outputId": "29dd897e-943a-4cf5-f14d-4bafc63140b4"
      },
      "source": [
        "X_train, X_test, y_train, y_test = train_test_split(\r\n",
        "  data['text'], data['label'], test_size=0.30, random_state=42)\r\n",
        "print(X_train.shape)\r\n",
        "print(X_test.shape)\r\n",
        "print(y_train.shape)"
      ],
      "execution_count": 113,
      "outputs": [
        {
          "output_type": "stream",
          "text": [
            "(11200,)\n",
            "(4800,)\n",
            "(11200,)\n"
          ],
          "name": "stdout"
        }
      ]
    },
    {
      "cell_type": "markdown",
      "metadata": {
        "id": "33iY3s70IG5P"
      },
      "source": [
        "# Özellik Çıkarım Yötemleri"
      ]
    },
    {
      "cell_type": "markdown",
      "metadata": {
        "id": "BF8AzlHBIRvV"
      },
      "source": [
        "# **1) COUNT VECTORS**\r\n",
        "\r\n",
        "\r\n"
      ]
    },
    {
      "cell_type": "code",
      "metadata": {
        "colab": {
          "base_uri": "https://localhost:8080/"
        },
        "id": "Qrbfn6ysIQ1e",
        "outputId": "a5f8343a-ed62-439b-e92d-354ba8594c8a"
      },
      "source": [
        "vectorizer = CountVectorizer()\r\n",
        "vectorizer.fit(X_train)"
      ],
      "execution_count": 114,
      "outputs": [
        {
          "output_type": "execute_result",
          "data": {
            "text/plain": [
              "CountVectorizer(analyzer='word', binary=False, decode_error='strict',\n",
              "                dtype=<class 'numpy.int64'>, encoding='utf-8', input='content',\n",
              "                lowercase=True, max_df=1.0, max_features=None, min_df=1,\n",
              "                ngram_range=(1, 1), preprocessor=None, stop_words=None,\n",
              "                strip_accents=None, token_pattern='(?u)\\\\b\\\\w\\\\w+\\\\b',\n",
              "                tokenizer=None, vocabulary=None)"
            ]
          },
          "metadata": {
            "tags": []
          },
          "execution_count": 114
        }
      ]
    },
    {
      "cell_type": "code",
      "metadata": {
        "id": "WFw06MPMIQ49"
      },
      "source": [
        "x_train_count = vectorizer.transform(X_train)\r\n",
        "x_test_count = vectorizer.transform(X_test)"
      ],
      "execution_count": 115,
      "outputs": []
    },
    {
      "cell_type": "code",
      "metadata": {
        "colab": {
          "base_uri": "https://localhost:8080/"
        },
        "id": "xsxtuDQsJ18O",
        "outputId": "5119b1d6-063f-4e0e-9761-76739dd6c93f"
      },
      "source": [
        "x_train_count.toarray()"
      ],
      "execution_count": 119,
      "outputs": [
        {
          "output_type": "execute_result",
          "data": {
            "text/plain": [
              "array([[0, 0, 0, ..., 0, 0, 0],\n",
              "       [0, 0, 0, ..., 0, 0, 0],\n",
              "       [0, 0, 0, ..., 0, 0, 0],\n",
              "       ...,\n",
              "       [0, 0, 0, ..., 0, 0, 0],\n",
              "       [0, 0, 0, ..., 0, 0, 0],\n",
              "       [0, 0, 0, ..., 0, 0, 0]])"
            ]
          },
          "metadata": {
            "tags": []
          },
          "execution_count": 119
        }
      ]
    },
    {
      "cell_type": "markdown",
      "metadata": {
        "id": "rI3Yo50HM5d4"
      },
      "source": [
        "# **2) TF-IDF**"
      ]
    },
    {
      "cell_type": "markdown",
      "metadata": {
        "id": "ZyY4CtSKKNLk"
      },
      "source": [
        " **2.1) TF-IDF / WORDLEVEL**"
      ]
    },
    {
      "cell_type": "code",
      "metadata": {
        "id": "pq7No5PlMG9n"
      },
      "source": [
        "from sklearn.feature_extraction.text import TfidfVectorizer"
      ],
      "execution_count": 122,
      "outputs": []
    },
    {
      "cell_type": "code",
      "metadata": {
        "colab": {
          "base_uri": "https://localhost:8080/"
        },
        "id": "G_j2QiVsLphm",
        "outputId": "16ab7e03-35e3-4284-b8fa-5d28e2b3d902"
      },
      "source": [
        "tf_idf_word_vectorizer = TfidfVectorizer()\r\n",
        "tf_idf_word_vectorizer.fit(X_train)\r\n"
      ],
      "execution_count": 124,
      "outputs": [
        {
          "output_type": "execute_result",
          "data": {
            "text/plain": [
              "TfidfVectorizer(analyzer='word', binary=False, decode_error='strict',\n",
              "                dtype=<class 'numpy.float64'>, encoding='utf-8',\n",
              "                input='content', lowercase=True, max_df=1.0, max_features=None,\n",
              "                min_df=1, ngram_range=(1, 1), norm='l2', preprocessor=None,\n",
              "                smooth_idf=True, stop_words=None, strip_accents=None,\n",
              "                sublinear_tf=False, token_pattern='(?u)\\\\b\\\\w\\\\w+\\\\b',\n",
              "                tokenizer=None, use_idf=True, vocabulary=None)"
            ]
          },
          "metadata": {
            "tags": []
          },
          "execution_count": 124
        }
      ]
    },
    {
      "cell_type": "code",
      "metadata": {
        "id": "J0lZwBP7Lpq1"
      },
      "source": [
        "x_train_tfidf_wordlevel = tf_idf_word_vectorizer.transform(X_train)\r\n",
        "x_test_tfidf_wordlevel = tf_idf_word_vectorizer.transform(X_test)"
      ],
      "execution_count": 126,
      "outputs": []
    },
    {
      "cell_type": "markdown",
      "metadata": {
        "id": "R6RXwiSZMa-j"
      },
      "source": [
        "**2.2) TF-IDF NGRAM LEVEL**"
      ]
    },
    {
      "cell_type": "code",
      "metadata": {
        "colab": {
          "base_uri": "https://localhost:8080/"
        },
        "id": "eKsfNhVeLps7",
        "outputId": "b0308347-0e46-4477-e511-45125f2407d4"
      },
      "source": [
        "tf_idf_ngram_vectorizer = TfidfVectorizer(ngram_range = (2,3))\r\n",
        "tf_idf_ngram_vectorizer.fit(X_train)\r\n",
        "\r\n"
      ],
      "execution_count": 128,
      "outputs": [
        {
          "output_type": "execute_result",
          "data": {
            "text/plain": [
              "TfidfVectorizer(analyzer='word', binary=False, decode_error='strict',\n",
              "                dtype=<class 'numpy.float64'>, encoding='utf-8',\n",
              "                input='content', lowercase=True, max_df=1.0, max_features=None,\n",
              "                min_df=1, ngram_range=(2, 3), norm='l2', preprocessor=None,\n",
              "                smooth_idf=True, stop_words=None, strip_accents=None,\n",
              "                sublinear_tf=False, token_pattern='(?u)\\\\b\\\\w\\\\w+\\\\b',\n",
              "                tokenizer=None, use_idf=True, vocabulary=None)"
            ]
          },
          "metadata": {
            "tags": []
          },
          "execution_count": 128
        }
      ]
    },
    {
      "cell_type": "code",
      "metadata": {
        "id": "JwcRPVo2Lpu0"
      },
      "source": [
        "x_train_tfidf_ngram = tf_idf_ngram_vectorizer.transform(X_train)\r\n",
        "x_test_tfidf_ngram = tf_idf_ngram_vectorizer.transform(X_test)"
      ],
      "execution_count": 129,
      "outputs": []
    },
    {
      "cell_type": "code",
      "metadata": {
        "id": "L3Q47IATPbUp"
      },
      "source": [
        ""
      ],
      "execution_count": null,
      "outputs": []
    },
    {
      "cell_type": "markdown",
      "metadata": {
        "id": "cNch8yay6BMg"
      },
      "source": [
        "# Ön İşleme Adımları Yapılmış Dataya Makina Öğrenmesi Uygulanması"
      ]
    },
    {
      "cell_type": "markdown",
      "metadata": {
        "id": "EGV3A2U8QThI"
      },
      "source": [
        "#NAİVE BAYES"
      ]
    },
    {
      "cell_type": "code",
      "metadata": {
        "colab": {
          "base_uri": "https://localhost:8080/"
        },
        "id": "N-1IaWpeQdV2",
        "outputId": "5f14746f-1f08-498a-f345-8bb72afd59f4"
      },
      "source": [
        "nb_model = MultinomialNB().fit(x_train_count,y_train)\r\n",
        "accuracy = cross_val_score(nb_model, \r\n",
        "                                     x_test_count, \r\n",
        "                                     y_test, \r\n",
        "                                     cv = 10).mean()\r\n",
        "\r\n",
        "print(\"Count Vectors Doğrulanmış Accuracy:\", accuracy)\r\n",
        "\r\n"
      ],
      "execution_count": 136,
      "outputs": [
        {
          "output_type": "stream",
          "text": [
            "Count Vectors Doğrulanmış Accuracy: 0.705\n"
          ],
          "name": "stdout"
        }
      ]
    },
    {
      "cell_type": "code",
      "metadata": {
        "colab": {
          "base_uri": "https://localhost:8080/"
        },
        "id": "m_hsLmSASuWv",
        "outputId": "9f2d1a55-6b39-4d6f-b195-e37b0be18a22"
      },
      "source": [
        "nb_model = MultinomialNB().fit(x_train_tfidf_wordlevel ,y_train)\r\n",
        "accuracy = cross_val_score(nb_model, \r\n",
        "                                     x_test_tfidf_wordlevel, \r\n",
        "                                     y_test, \r\n",
        "                                     cv = 10).mean()\r\n",
        "\r\n",
        "print(\"Word-Level Doğrulanmış Accuracy:\", accuracy)\r\n"
      ],
      "execution_count": 140,
      "outputs": [
        {
          "output_type": "stream",
          "text": [
            "Word-Level Doğrulanmış Accuracy: 0.620625\n"
          ],
          "name": "stdout"
        }
      ]
    },
    {
      "cell_type": "code",
      "metadata": {
        "colab": {
          "base_uri": "https://localhost:8080/"
        },
        "id": "qRF4ueVRSuZZ",
        "outputId": "8b353d02-ec83-41aa-8bac-073747d5b420"
      },
      "source": [
        "nb_model = MultinomialNB().fit(x_train_tfidf_wordlevel ,y_train)\r\n",
        "accuracy = cross_val_score(nb_model, \r\n",
        "                                           x_test_tfidf_ngram, \r\n",
        "                                           y_test, \r\n",
        "                                           cv = 10).mean()\r\n",
        "\r\n",
        "print(\"N-GRAM Doğrulanmış Accuracy:\", accuracy)"
      ],
      "execution_count": 139,
      "outputs": [
        {
          "output_type": "stream",
          "text": [
            "N-GRAM Doğrulanmış Accuracy: 0.5349999999999999\n"
          ],
          "name": "stdout"
        }
      ]
    },
    {
      "cell_type": "markdown",
      "metadata": {
        "id": "8sK-ohjfQLN9"
      },
      "source": [
        "#LOJİSTİK REGRESYON"
      ]
    },
    {
      "cell_type": "code",
      "metadata": {
        "id": "wiJsAGHbSGY_"
      },
      "source": [
        "from sklearn.linear_model import LogisticRegression\r\n",
        "from sklearn.model_selection import cross_val_score\r\n",
        "from warnings import filterwarnings\r\n",
        "filterwarnings('ignore')"
      ],
      "execution_count": 131,
      "outputs": []
    },
    {
      "cell_type": "code",
      "metadata": {
        "colab": {
          "base_uri": "https://localhost:8080/"
        },
        "id": "y6tdqjitQdxv",
        "outputId": "7c7c7b1b-27a3-4bb7-9e5f-7004a2aa6b2d"
      },
      "source": [
        "loj = LogisticRegression()\r\n",
        "lojistik_model = loj.fit(x_train_count, y_train)\r\n",
        "accuracy = cross_val_score(lojistik_model, \r\n",
        "                                           x_test_count, \r\n",
        "                                           y_test, \r\n",
        "                                           cv = 10).mean()\r\n",
        "\r\n",
        "print(\"Count Vectors Doğrulanmış Accuracy:\", accuracy)\r\n"
      ],
      "execution_count": 133,
      "outputs": [
        {
          "output_type": "stream",
          "text": [
            "Count Vectors Doğrulanmış Accuracy: 0.8533333333333333\n"
          ],
          "name": "stdout"
        }
      ]
    },
    {
      "cell_type": "code",
      "metadata": {
        "colab": {
          "base_uri": "https://localhost:8080/"
        },
        "id": "Lv-C2uB2QuHR",
        "outputId": "cddc6f4d-5328-4e50-f8fd-0a6948f79195"
      },
      "source": [
        "loj = LogisticRegression()\r\n",
        "lojistik_model = loj.fit(x_train_tfidf_wordlevel,y_train)\r\n",
        "accuracy = cross_val_score(lojistik_model, \r\n",
        "                                           x_test_tfidf_wordlevel, \r\n",
        "                                           y_test, \r\n",
        "                                           cv = 10).mean()\r\n",
        "\r\n",
        "print(\"Word-Level Doğrulanmış Accuracy:\", accuracy)"
      ],
      "execution_count": 134,
      "outputs": [
        {
          "output_type": "stream",
          "text": [
            "Word-Level Doğrulanmış Accuracy: 0.7560416666666666\n"
          ],
          "name": "stdout"
        }
      ]
    },
    {
      "cell_type": "code",
      "metadata": {
        "colab": {
          "base_uri": "https://localhost:8080/"
        },
        "id": "0ZBBxjYrQuJr",
        "outputId": "11049afe-9b08-4596-862b-0f16b4beed1e"
      },
      "source": [
        "\r\n",
        "loj =LogisticRegression()\r\n",
        "lojistik_model = loj.fit(x_train_tfidf_ngram,y_train)\r\n",
        "accuracy = cross_val_score(lojistik_model, \r\n",
        "                                           x_test_tfidf_ngram, \r\n",
        "                                           y_test, \r\n",
        "                                           cv = 10).mean()\r\n",
        "\r\n",
        "print(\"N-GRAM Doğrulanmış Accuracy:\", accuracy)"
      ],
      "execution_count": 135,
      "outputs": [
        {
          "output_type": "stream",
          "text": [
            "N-GRAM Doğrulanmış Accuracy: 0.5885416666666667\n"
          ],
          "name": "stdout"
        }
      ]
    },
    {
      "cell_type": "markdown",
      "metadata": {
        "id": "je_2dodLQWMj"
      },
      "source": [
        "#RANDOM FOREST"
      ]
    },
    {
      "cell_type": "code",
      "metadata": {
        "id": "VelOBYe5UAJv"
      },
      "source": [
        "from sklearn.ensemble import RandomForestClassifier"
      ],
      "execution_count": 143,
      "outputs": []
    },
    {
      "cell_type": "code",
      "metadata": {
        "colab": {
          "base_uri": "https://localhost:8080/"
        },
        "id": "fC7XcZ7IQePN",
        "outputId": "ac3638f8-09e2-4e6e-d1f4-fa876f568ca8"
      },
      "source": [
        "rf_model = RandomForestClassifier().fit(x_train_count,y_train)\r\n",
        "accuracy = cross_val_score(rf_model, \r\n",
        "                                     x_test_count, \r\n",
        "                                     y_test, \r\n",
        "                                     cv = 10).mean()\r\n",
        "\r\n",
        "print(\"Count Vectors Doğrulanmış Accuracy:\", accuracy)\r\n",
        "\r\n"
      ],
      "execution_count": 148,
      "outputs": [
        {
          "output_type": "stream",
          "text": [
            "Count Vectors Doğrulanmış Accuracy: 0.8697916666666666\n"
          ],
          "name": "stdout"
        }
      ]
    },
    {
      "cell_type": "code",
      "metadata": {
        "colab": {
          "base_uri": "https://localhost:8080/"
        },
        "id": "1paR8GyfUL8o",
        "outputId": "65f327b4-d38d-4159-981a-e9cfd5266325"
      },
      "source": [
        "rf_model =RandomForestClassifier().fit(x_train_tfidf_wordlevel ,y_train)\r\n",
        "accuracy = cross_val_score(rf_model, \r\n",
        "                                     x_test_tfidf_wordlevel, \r\n",
        "                                     y_test, \r\n",
        "                                     cv = 10).mean()\r\n",
        "\r\n",
        "print(\"Word-Level Doğrulanmış Accuracy:\", accuracy)\r\n"
      ],
      "execution_count": 146,
      "outputs": [
        {
          "output_type": "stream",
          "text": [
            "Word-Level Doğrulanmış Accuracy: 0.8491666666666667\n"
          ],
          "name": "stdout"
        }
      ]
    },
    {
      "cell_type": "code",
      "metadata": {
        "colab": {
          "base_uri": "https://localhost:8080/"
        },
        "id": "-jwiIZK1UL-_",
        "outputId": "7cd25a3d-ac63-44dc-fe91-692949eb2fde"
      },
      "source": [
        "rf_model = RandomForestClassifier().fit(x_train_tfidf_wordlevel ,y_train)\r\n",
        "accuracy = cross_val_score(rf_model, \r\n",
        "                                           x_test_tfidf_ngram, \r\n",
        "                                           y_test, \r\n",
        "                                           cv = 10).mean()\r\n",
        "\r\n",
        "print(\"N-GRAM Doğrulanmış Accuracy:\", accuracy)"
      ],
      "execution_count": 147,
      "outputs": [
        {
          "output_type": "stream",
          "text": [
            "N-GRAM Doğrulanmış Accuracy: 0.6304166666666667\n"
          ],
          "name": "stdout"
        }
      ]
    },
    {
      "cell_type": "markdown",
      "metadata": {
        "id": "cEgmcoKItBBj"
      },
      "source": [
        "#Kurulan En İyi Model ile Yeni Yorumların Duygu Tahmini\r\n",
        "\r\n",
        "\r\n",
        "\r\n",
        "*   En iyi model olarak Count Vectors yöntemiyle kurulan Random Forest modeli seçildi.\r\n",
        "\r\n",
        "\r\n"
      ]
    },
    {
      "cell_type": "code",
      "metadata": {
        "id": "GXBzMsLKID_w"
      },
      "source": [
        "yorum= pd.Series([\"I can't believe my eyes, are you kidding\",\"I waited a long time for you but you didn't come. I cried all day\",\"Mark tore her off the strip for being late\",\r\n",
        "                 \"I was gobsmacked to learn that his brother is a spy.\"])"
      ],
      "execution_count": 154,
      "outputs": []
    },
    {
      "cell_type": "code",
      "metadata": {
        "id": "YnNlIFKoIEDn"
      },
      "source": [
        "vector= CountVectorizer()\r\n",
        "vector.fit(X_train)\r\n",
        "yorum=vector.transform(yorum)"
      ],
      "execution_count": 155,
      "outputs": []
    },
    {
      "cell_type": "code",
      "metadata": {
        "colab": {
          "base_uri": "https://localhost:8080/"
        },
        "id": "LV1nkYX_u9et",
        "outputId": "43f7d90e-2ad9-4e5b-af57-9bd416a35630"
      },
      "source": [
        "rf_model.predict(yorum)"
      ],
      "execution_count": 156,
      "outputs": [
        {
          "output_type": "execute_result",
          "data": {
            "text/plain": [
              "array(['anger', 'joy', 'anger', 'anger'], dtype=object)"
            ]
          },
          "metadata": {
            "tags": []
          },
          "execution_count": 156
        }
      ]
    },
    {
      "cell_type": "code",
      "metadata": {
        "id": "BGY7jQCFvlCF"
      },
      "source": [
        ""
      ],
      "execution_count": null,
      "outputs": []
    }
  ]
}
